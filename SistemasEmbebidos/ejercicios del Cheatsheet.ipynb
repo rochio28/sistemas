{
 "cells": [
  {
   "cell_type": "code",
   "execution_count": 1,
   "id": "215e7d4f-26f1-468e-8249-389b3fb8af58",
   "metadata": {},
   "outputs": [
    {
     "name": "stdout",
     "output_type": "stream",
     "text": [
      "2022-09-09 12:09:55.424822\n",
      "2022\n",
      "Friday\n",
      "September\n",
      "09\n",
      "12:09:55 PM\n"
     ]
    }
   ],
   "source": [
    "# 10. Working with datetime\n",
    "# A datetime module in Python can be used to work with date objects.\n",
    "\n",
    "import datetime\n",
    "\n",
    "x = datetime.datetime.now()\n",
    "\n",
    "print(x)\n",
    "print(x.year)\n",
    "print(x.strftime(\"%A\"))\n",
    "print(x.strftime(\"%B\"))\n",
    "print(x.strftime(\"%d\"))\n",
    "print(x.strftime(\"%H:%M:%S %p\"))\n"
   ]
  }
 ],
 "metadata": {
  "kernelspec": {
   "display_name": "Python 3 (ipykernel)",
   "language": "python",
   "name": "python3"
  },
  "language_info": {
   "codemirror_mode": {
    "name": "ipython",
    "version": 3
   },
   "file_extension": ".py",
   "mimetype": "text/x-python",
   "name": "python",
   "nbconvert_exporter": "python",
   "pygments_lexer": "ipython3",
   "version": "3.8.11"
  }
 },
 "nbformat": 4,
 "nbformat_minor": 5
}
