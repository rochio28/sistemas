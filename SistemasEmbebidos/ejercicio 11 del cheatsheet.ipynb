{
 "cells": [
  {
   "cell_type": "code",
   "execution_count": 1,
   "id": "4b949b86-d49d-4540-9db4-3fe17eefb958",
   "metadata": {},
   "outputs": [],
   "source": [
    "#11.NumPy\n",
    "#NumPyis the fundamental package for scientific computing with Python. Among other things, it contains:\n",
    "#Powerful N-dimensional array object\n",
    "#Sophisticated (broadcasting) functions\n",
    "#Tools for integrating C/C++ and Fortran code\n",
    "#Useful linear algebra, Fourier transform, and random number capabilities"
   ]
  },
  {
   "cell_type": "code",
   "execution_count": 2,
   "id": "e7275f30-54c8-4bba-9287-a4ec106379b7",
   "metadata": {},
   "outputs": [
    {
     "name": "stdout",
     "output_type": "stream",
     "text": [
      "Requirement already satisfied: numpy in /home/muon02/anaconda3/lib/python3.8/site-packages (1.20.3)\n"
     ]
    }
   ],
   "source": [
    "# Install NumPy using pip\n",
    "!pip install numpy"
   ]
  },
  {
   "cell_type": "code",
   "execution_count": 3,
   "id": "ca682e7f-d9ad-4eab-a20d-4d7546af9152",
   "metadata": {},
   "outputs": [],
   "source": [
    "# Import NumPy module\n",
    "import numpy as np"
   ]
  },
  {
   "cell_type": "code",
   "execution_count": 4,
   "id": "a1c76918-dc51-43b5-84f0-355db2f96d58",
   "metadata": {},
   "outputs": [],
   "source": [
    "#Inspecting your array"
   ]
  },
  {
   "cell_type": "code",
   "execution_count": 5,
   "id": "7ab214b2-eb24-4362-b307-5dbd68af8982",
   "metadata": {},
   "outputs": [
    {
     "data": {
      "text/plain": [
       "array([[[1., 1., 1., 1.],\n",
       "        [1., 1., 1., 1.],\n",
       "        [1., 1., 1., 1.]],\n",
       "\n",
       "       [[1., 1., 1., 1.],\n",
       "        [1., 1., 1., 1.],\n",
       "        [1., 1., 1., 1.]]])"
      ]
     },
     "execution_count": 5,
     "metadata": {},
     "output_type": "execute_result"
    }
   ],
   "source": [
    "# Create array\n",
    "a = np.arange(15).reshape(3, 5) # Create array with range 0-14 in 3 by 5 dimension\n",
    "b = np.zeros((3,5)) # Create array with zeroes\n",
    "c = np.ones( (2,3,4), dtype=np.int16 ) # Createarray with ones and defining data types\n",
    "d = np.ones((3,5))\n",
    "a.shape # Array dimension\n",
    "len(b)# Length of array\n",
    "c.ndim # Number of array dimensions\n",
    "a.size # Number of array elements\n",
    "b.dtype # Data type of array elements\n",
    "c.dtype.name # Name of data type\n",
    "c.astype(float) # Convert an array type to a different type"
   ]
  },
  {
   "cell_type": "code",
   "execution_count": 6,
   "id": "f086d3ad-4b3f-4842-805e-f278fef7d558",
   "metadata": {},
   "outputs": [],
   "source": [
    "#Basic math operations"
   ]
  },
  {
   "cell_type": "code",
   "execution_count": 7,
   "id": "d6592132-5749-4070-831c-c50b7c2f128a",
   "metadata": {},
   "outputs": [
    {
     "data": {
      "text/plain": [
       "False"
      ]
     },
     "execution_count": 7,
     "metadata": {},
     "output_type": "execute_result"
    }
   ],
   "source": [
    "# Create array\n",
    "a = np.arange(15).reshape(3, 5) # Create array with range 0-14 in 3 by 5 dimension\n",
    "b = np.zeros((3,5)) # Create array with zeroes\n",
    "c = np.ones( (2,3,4), dtype=np.int16 ) # Createarray with ones and defining data types\n",
    "d = np.ones((3,5))\n",
    "np.add(a,b) # Addition\n",
    "np.subtract(a,b) # Substraction\n",
    "np.divide(a,d) # Division\n",
    "np.multiply(a,d) # Multiplication\n",
    "np.array_equal(a,b) # Comparison - arraywise"
   ]
  },
  {
   "cell_type": "code",
   "execution_count": 8,
   "id": "46f87e11-b8b9-4975-b9ee-c282491955d6",
   "metadata": {},
   "outputs": [],
   "source": [
    "#Aggregate functions"
   ]
  },
  {
   "cell_type": "code",
   "execution_count": 9,
   "id": "a93d0f5f-4552-462e-826a-af06592afc9f",
   "metadata": {},
   "outputs": [
    {
     "data": {
      "text/plain": [
       "4.320493798938574"
      ]
     },
     "execution_count": 9,
     "metadata": {},
     "output_type": "execute_result"
    }
   ],
   "source": [
    "# Create array\n",
    "a = np.arange(15).reshape(3, 5) # Create array with range 0-14 in 3 by 5 dimension\n",
    "b = np.zeros((3,5)) # Create array with zeroes\n",
    "c = np.ones( (2,3,4), dtype=np.int16 ) # Createarray with ones and defining data types\n",
    "d = np.ones((3,5))\n",
    "a.sum() # Array-wise sum\n",
    "a.min() # Array-wise min value\n",
    "a.mean() # Array-wise mean\n",
    "a.max(axis=0) # Max value of array row\n",
    "np.std(a) # Standard deviation"
   ]
  },
  {
   "cell_type": "code",
   "execution_count": null,
   "id": "1b9db678-2606-42f5-ba21-0ad78420df29",
   "metadata": {},
   "outputs": [],
   "source": []
  }
 ],
 "metadata": {
  "kernelspec": {
   "display_name": "Python 3 (ipykernel)",
   "language": "python",
   "name": "python3"
  },
  "language_info": {
   "codemirror_mode": {
    "name": "ipython",
    "version": 3
   },
   "file_extension": ".py",
   "mimetype": "text/x-python",
   "name": "python",
   "nbconvert_exporter": "python",
   "pygments_lexer": "ipython3",
   "version": "3.8.11"
  }
 },
 "nbformat": 4,
 "nbformat_minor": 5
}
