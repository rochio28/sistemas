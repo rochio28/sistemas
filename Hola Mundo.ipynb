{
 "cells": [
  {
   "cell_type": "code",
   "execution_count": 1,
   "id": "a83d1d0a-4c10-4c28-9847-c0a1f9ea2d29",
   "metadata": {},
   "outputs": [
    {
     "name": "stdout",
     "output_type": "stream",
     "text": [
      "Hola Mundo\n"
     ]
    }
   ],
   "source": [
    "print('Hola Mundo')"
   ]
  },
  {
   "cell_type": "markdown",
   "id": "8188ca61-8a28-4e42-b8d5-6256b8ecc075",
   "metadata": {},
   "source": [
    "Lo anterior fue un ejemplo:\n",
    "\n",
    "y lo siguiente un título:\n",
    "\n",
    "### Hola mundo"
   ]
  },
  {
   "cell_type": "code",
   "execution_count": null,
   "id": "50fc2028-3deb-4e72-82f1-df0ad462e553",
   "metadata": {},
   "outputs": [],
   "source": []
  }
 ],
 "metadata": {
  "kernelspec": {
   "display_name": "Python 3 (ipykernel)",
   "language": "python",
   "name": "python3"
  },
  "language_info": {
   "codemirror_mode": {
    "name": "ipython",
    "version": 3
   },
   "file_extension": ".py",
   "mimetype": "text/x-python",
   "name": "python",
   "nbconvert_exporter": "python",
   "pygments_lexer": "ipython3",
   "version": "3.8.11"
  }
 },
 "nbformat": 4,
 "nbformat_minor": 5
}
